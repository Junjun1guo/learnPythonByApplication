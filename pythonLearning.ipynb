{
 "cells": [
  {
   "cell_type": "markdown",
   "metadata": {
    "Collapsed": "false"
   },
   "source": [
    "　　　　　　　　　　　<img src=\"images/tongjiLogo.jpg\" width=\"12%\">　　　　　　 <img src=\"images/civilEngineering.jpg\" width=\"15%\"> "
   ]
  },
  {
   "cell_type": "markdown",
   "metadata": {
    "Collapsed": "false"
   },
   "source": [
    "　　　　　　　　<font size=6>**python语言及其在桥梁工程中的应用**</font>"
   ]
  },
  {
   "cell_type": "markdown",
   "metadata": {
    "Collapsed": "false"
   },
   "source": [
    "　　　　　　　　　　　　　　<font size=5>**汇报人：郭军军(博士研究生)**</font>"
   ]
  },
  {
   "cell_type": "markdown",
   "metadata": {
    "Collapsed": "false"
   },
   "source": [
    "　"
   ]
  },
  {
   "cell_type": "markdown",
   "metadata": {
    "Collapsed": "false"
   },
   "source": [
    "　　　　　　　guojj@tongji.edu.cn　　　[github个人主页](https://github.com/Junjun1guo)　　　[ORCID个人主页](https://orcid.org/0000-0001-9867-414X)"
   ]
  },
  {
   "cell_type": "markdown",
   "metadata": {
    "Collapsed": "false"
   },
   "source": [
    "　"
   ]
  },
  {
   "cell_type": "markdown",
   "metadata": {
    "Collapsed": "false"
   },
   "source": [
    "　　　　　　    　　　"
   ]
  },
  {
   "cell_type": "markdown",
   "metadata": {
    "Collapsed": "false"
   },
   "source": [
    "   "
   ]
  },
  {
   "cell_type": "markdown",
   "metadata": {
    "Collapsed": "false"
   },
   "source": [
    "    "
   ]
  },
  {
   "cell_type": "markdown",
   "metadata": {
    "Collapsed": "false"
   },
   "source": [
    "    "
   ]
  },
  {
   "cell_type": "markdown",
   "metadata": {
    "Collapsed": "false",
    "toc-hr-collapsed": false
   },
   "source": [
    "# **Markdown语言**"
   ]
  },
  {
   "cell_type": "markdown",
   "metadata": {
    "Collapsed": "false"
   },
   "source": [
    "[Markdown](https://daringfireball.net/projects/markdown/)是一种轻量级  的标记语言，可与HTML语言兼容，可以看做是[HTML语言](https://www.runoob.com/html/html-editors.html)的简易版本，2004年由John Gruber创建。Markdown语言主要用于编写文档及论坛发表消息，如[github](https://github.com/)的read.me文档，[jupyterlab](https://jupyterlab.readthedocs.io/en/latest/)文本的编写。\n"
   ]
  },
  {
   "cell_type": "markdown",
   "metadata": {
    "Collapsed": "false"
   },
   "source": [
    "## **多级标题**"
   ]
  },
  {
   "cell_type": "raw",
   "metadata": {
    "Collapsed": "false"
   },
   "source": [
    "# 一级标题\n",
    "## 二级标题\n",
    "...\n",
    "###### 六级标题"
   ]
  },
  {
   "cell_type": "markdown",
   "metadata": {
    "Collapsed": "false"
   },
   "source": [
    "## **段落样式**"
   ]
  },
  {
   "cell_type": "markdown",
   "metadata": {
    "Collapsed": "false"
   },
   "source": [
    "　　**空行:** 通过文本间空行实现"
   ]
  },
  {
   "cell_type": "markdown",
   "metadata": {
    "Collapsed": "false"
   },
   "source": [
    "　　这是第一段\n",
    "  \n",
    "　　这是第二段"
   ]
  },
  {
   "cell_type": "markdown",
   "metadata": {
    "Collapsed": "false"
   },
   "source": [
    "## **空格:**   \n",
    "　　中文输入　状态下，按shift+空格切换到全角状态，然后按空格    \n",
    "  "
   ]
  },
  {
   "cell_type": "markdown",
   "metadata": {
    "Collapsed": "false"
   },
   "source": [
    "## **文字样式:**"
   ]
  },
  {
   "cell_type": "raw",
   "metadata": {
    "Collapsed": "false"
   },
   "source": [
    "   斜体采用 *斜体*　粗体采用 **粗体**　粗斜体采用 ***粗斜体***"
   ]
  },
  {
   "cell_type": "markdown",
   "metadata": {
    "Collapsed": "false"
   },
   "source": [
    "　　*斜体*　**粗体**　***粗斜体***"
   ]
  },
  {
   "cell_type": "markdown",
   "metadata": {
    "Collapsed": "false"
   },
   "source": [
    "## **分割线:** "
   ]
  },
  {
   "cell_type": "raw",
   "metadata": {
    "Collapsed": "false"
   },
   "source": [
    "　　可以采用三个以上的下划线___ "
   ]
  },
  {
   "cell_type": "markdown",
   "metadata": {
    "Collapsed": "false"
   },
   "source": [
    "_____"
   ]
  },
  {
   "cell_type": "markdown",
   "metadata": {
    "Collapsed": "false"
   },
   "source": [
    "## **下划线**"
   ]
  },
  {
   "cell_type": "raw",
   "metadata": {
    "Collapsed": "false"
   },
   "source": [
    "　　采用HTML语言的underline标签实现 <u> </u>"
   ]
  },
  {
   "cell_type": "markdown",
   "metadata": {
    "Collapsed": "false"
   },
   "source": [
    "　　<u>通过HTML的标签实现</u>"
   ]
  },
  {
   "cell_type": "markdown",
   "metadata": {
    "Collapsed": "false"
   },
   "source": [
    "## **字体颜色**"
   ]
  },
  {
   "cell_type": "raw",
   "metadata": {
    "Collapsed": "false"
   },
   "source": [
    "　　采用HTML font标签实现 <font color=\"red\">内容</font>"
   ]
  },
  {
   "cell_type": "markdown",
   "metadata": {
    "Collapsed": "false"
   },
   "source": [
    "<font color=\"green\">　　字体颜色通过HTML字体颜色标签实现</font>"
   ]
  },
  {
   "cell_type": "markdown",
   "metadata": {
    "Collapsed": "false"
   },
   "source": [
    "## **有序与无序列表**"
   ]
  },
  {
   "cell_type": "raw",
   "metadata": {
    "Collapsed": "false"
   },
   "source": [
    "* 无序列表\n",
    "* 无序列表\n",
    "1. 有序列表\n",
    "2. 有序列表"
   ]
  },
  {
   "cell_type": "markdown",
   "metadata": {
    "Collapsed": "false"
   },
   "source": [
    "* 无序列表\n",
    "* 无序列表\n",
    "1. 有序列表\n",
    "2. 有序列表"
   ]
  },
  {
   "cell_type": "markdown",
   "metadata": {
    "Collapsed": "false"
   },
   "source": [
    "## **区块引用**"
   ]
  },
  {
   "cell_type": "raw",
   "metadata": {
    "Collapsed": "false"
   },
   "source": [
    "> 区块引用1   \n",
    ">> 区块引用2"
   ]
  },
  {
   "cell_type": "markdown",
   "metadata": {
    "Collapsed": "false"
   },
   "source": [
    "> 区块引用1   \n",
    ">> 区块引用2\n",
    ">>> 区块引用3"
   ]
  },
  {
   "cell_type": "markdown",
   "metadata": {
    "Collapsed": "false"
   },
   "source": [
    "## 代码块"
   ]
  },
  {
   "cell_type": "raw",
   "metadata": {
    "Collapsed": "false"
   },
   "source": [
    "``` Python\n",
    "print (\"Hello world!\")\n",
    "```"
   ]
  },
  {
   "cell_type": "markdown",
   "metadata": {
    "Collapsed": "false"
   },
   "source": [
    "``` Python\n",
    "print (\"Hello world!\")\n",
    "```"
   ]
  },
  {
   "cell_type": "markdown",
   "metadata": {
    "Collapsed": "false"
   },
   "source": [
    "## 地址与图片链接"
   ]
  },
  {
   "cell_type": "raw",
   "metadata": {
    "Collapsed": "false"
   },
   "source": [
    "　　地址链接[python官网](https://www.python.org/)\n",
    "　　图片链接<img src=\"images/python.png\" width=\"70%\"> "
   ]
  },
  {
   "cell_type": "markdown",
   "metadata": {
    "Collapsed": "false"
   },
   "source": [
    "[python官网](https://www.python.org/)\n",
    "\n",
    "<img src=\"images/python.png\" width=\"60%\">"
   ]
  },
  {
   "cell_type": "markdown",
   "metadata": {
    "Collapsed": "false"
   },
   "source": [
    "## 表格"
   ]
  },
  {
   "cell_type": "raw",
   "metadata": {
    "Collapsed": "false"
   },
   "source": [
    "　　采用|分割单元格，采用----分割标题栏与单元格。单元格的对齐采用:,如左对齐(:----)\n",
    "\n",
    "| 左对齐 | 右对齐 | 居中对齐 |\n",
    "| :------|------:| :-----: |\n",
    "| 单元格 | 单元格 | 单元格 |\n",
    "| 单元格 | 单元格 | 单元格 |"
   ]
  },
  {
   "cell_type": "markdown",
   "metadata": {
    "Collapsed": "false"
   },
   "source": [
    "| 左对齐 | 右对齐 | 居中对齐 |\n",
    "| :-----|----:| :----: |\n",
    "| 单元格 | 单元格 | 单元格 |\n",
    "| 单元格 | 单元格 | 单元格 |"
   ]
  },
  {
   "cell_type": "markdown",
   "metadata": {
    "Collapsed": "false"
   },
   "source": [
    "## 公式编辑"
   ]
  },
  {
   "cell_type": "markdown",
   "metadata": {
    "Collapsed": "false"
   },
   "source": [
    "[markdown公式编辑教程](https://www.jianshu.com/p/25f0139637b7)"
   ]
  },
  {
   "cell_type": "raw",
   "metadata": {
    "Collapsed": "false"
   },
   "source": [
    "行内公式$ \\Gamma(z) = \\int_0^\\infty t^{z-1}e^{-t}dt\\,. $\n",
    "行间公式$$\\Gamma(z) = \\int_0^\\infty t^{z-1}e^{-t}dt\\,.$$"
   ]
  },
  {
   "cell_type": "markdown",
   "metadata": {
    "Collapsed": "false"
   },
   "source": [
    "$ \\Gamma(z) = \\int_0^\\infty t^{z-1}e^{-t}dt\\,. $\n",
    "$$\\Gamma(z) = \\int_0^\\infty t^{z-1}e^{-t}dt\\,.$$"
   ]
  },
  {
   "cell_type": "markdown",
   "metadata": {
    "Collapsed": "false",
    "toc-hr-collapsed": false
   },
   "source": [
    "# Python语言"
   ]
  },
  {
   "cell_type": "markdown",
   "metadata": {
    "Collapsed": "false",
    "toc-hr-collapsed": false
   },
   "source": [
    "## python语言及其特点"
   ]
  },
  {
   "cell_type": "markdown",
   "metadata": {
    "Collapsed": "false"
   },
   "source": [
    "### python语言的发展\n",
    "　　Guido von Rossum 1989年开发了python编译器。python语言介于C语言与脚本语言之间，是一种“胶水”语言。python语言的宗旨就是“能用胶水解决的问题，坚决不造轮子”。发展的版本有2.x和3.x，[python官网](https://www.python.org/)"
   ]
  },
  {
   "cell_type": "markdown",
   "metadata": {
    "Collapsed": "false"
   },
   "source": [
    "<img src=\"images/C++之父.png\" width=\"50%\"><img src=\"images/python之父.png\" width=\"50%\">"
   ]
  },
  {
   "cell_type": "markdown",
   "metadata": {
    "Collapsed": "true"
   },
   "source": [
    "### python语言下载及安装\n",
    "1. 在下载页面选择相应系统对应的版本进行下载\n",
    "\n",
    "<img src=\"images/python官网.png\" width=\"50%\"><img src=\"images/python下载页面.png\" width=\"50%\">\n",
    "2. 安装python，可以选择相应的安装目录，添加python到系统路径\n",
    "\n",
    "<img src=\"images/python安装界面.png\" width=\"60%\">"
   ]
  },
  {
   "cell_type": "markdown",
   "metadata": {
    "Collapsed": "false"
   },
   "source": [
    "3. 进入python安装目录Scripts进行安装需要的模块，安装好的模块位于site-pakages中\n",
    "\n",
    "<img src=\"images/python安装模块.png\" width=\"50%\"><img src=\"images/python模块包位置.png\" width=\"50%\">"
   ]
  },
  {
   "cell_type": "markdown",
   "metadata": {
    "Collapsed": "false"
   },
   "source": [
    "### python常用编辑器介绍\n"
   ]
  },
  {
   "cell_type": "markdown",
   "metadata": {
    "Collapsed": "false"
   },
   "source": [
    "　　[editPlus](https://www.editplus.com/)， [pyCharm](https://www.jetbrains.com/pycharm/)，\n",
    "[anaConda](https://www.anaconda.com/)等"
   ]
  },
  {
   "cell_type": "markdown",
   "metadata": {
    "Collapsed": "false"
   },
   "source": [
    "<img src=\"images/editPlus.png\" width=\"50%\"><img src=\"images/pyCharm截图.png\" width=\"50%\">"
   ]
  },
  {
   "cell_type": "markdown",
   "metadata": {
    "Collapsed": "false"
   },
   "source": [
    "### python语言的特点"
   ]
  },
  {
   "cell_type": "markdown",
   "metadata": {
    "Collapsed": "false"
   },
   "source": [
    "**优点**\n",
    "* 简洁优雅，可读性强　　\n",
    "* 可移植性强，接口强大\n",
    "* 优秀强大的第三方库\n",
    "\n",
    "**不足**\n",
    "* 速度中等\n",
    "* 不同版本及包的兼容性"
   ]
  },
  {
   "cell_type": "markdown",
   "metadata": {
    "Collapsed": "false"
   },
   "source": [
    "### python的应用场景   "
   ]
  },
  {
   "cell_type": "markdown",
   "metadata": {
    "Collapsed": "false"
   },
   "source": [
    "* 数值计算，依赖于众多的第三方包\n",
    "* 机器学习及深度学习\n",
    "* 网络爬虫及大数据分析\n",
    "* 网页制作，知乎，facebook等\n",
    "* 桌面程序的开发，依赖于pyQt，wxPython等第三方GUI库\n",
    "* 与其他软件的交互，如Opensees,Abaqus,SAP2000等\n",
    "..."
   ]
  },
  {
   "cell_type": "markdown",
   "metadata": {
    "Collapsed": "false"
   },
   "source": [
    "### python与matlab对比"
   ]
  },
  {
   "cell_type": "markdown",
   "metadata": {
    "Collapsed": "false"
   },
   "source": [
    "|<font size=4>matlab</font>|<font size=4>python</font>|\n",
    "|:------:|:------:|\n",
    "|<font size=4>商业软件</font>|<font size=4>免费开源</font>|\n",
    "|<font size=4>软件冗杂</font>|<font size=4>即用即装</font>|\n",
    "|<font size=4>面向过程</font>|<font size=4>面向对象</font>|\n",
    "|<font size=4>速度慢</font>|<font size=4>速度快</font>|\n",
    "|<font size=4>发展缓慢</font>|<font size=4>发展极快</font>|\n",
    "|<font size=4>...</font>|<font size=4>...</font>|"
   ]
  },
  {
   "cell_type": "markdown",
   "metadata": {
    "Collapsed": "false",
    "toc-hr-collapsed": false
   },
   "source": [
    "## python语言基础语言"
   ]
  },
  {
   "cell_type": "markdown",
   "metadata": {
    "Collapsed": "false"
   },
   "source": [
    "### 数据类型"
   ]
  },
  {
   "cell_type": "markdown",
   "metadata": {
    "Collapsed": "false"
   },
   "source": [
    "数字：整型(int)  浮点型 (float)"
   ]
  },
  {
   "cell_type": "code",
   "execution_count": null,
   "metadata": {
    "Collapsed": "false"
   },
   "outputs": [],
   "source": [
    "print (type(2)) #type()函数返回输入数据的类型\n",
    "print (type(2.0)) #print ()函数用于文本输出"
   ]
  },
  {
   "cell_type": "code",
   "execution_count": 2,
   "metadata": {
    "Collapsed": "false"
   },
   "outputs": [
    {
     "name": "stdout",
     "output_type": "stream",
     "text": [
      "2.0\n",
      "2\n"
     ]
    }
   ],
   "source": [
    "a=float(2) #整型转换为浮点型\n",
    "b=int(2.0) #浮点型转换为整型\n",
    "print (a)\n",
    "print (b)"
   ]
  },
  {
   "cell_type": "markdown",
   "metadata": {
    "Collapsed": "false"
   },
   "source": [
    "字符串：'' \"\""
   ]
  },
  {
   "cell_type": "code",
   "execution_count": 3,
   "metadata": {
    "Collapsed": "false"
   },
   "outputs": [
    {
     "name": "stdout",
     "output_type": "stream",
     "text": [
      "<class 'str'>\n",
      "hello world!\n",
      "hello world!我是python\n"
     ]
    }
   ],
   "source": [
    "a=\"hello world!\"\n",
    "b=\"我是python\"\n",
    "print (type(a))\n",
    "print (a)\n",
    "print (a+b)"
   ]
  },
  {
   "cell_type": "markdown",
   "metadata": {
    "Collapsed": "false"
   },
   "source": [
    "Math模块"
   ]
  },
  {
   "cell_type": "code",
   "execution_count": 4,
   "metadata": {
    "Collapsed": "false"
   },
   "outputs": [
    {
     "name": "stdout",
     "output_type": "stream",
     "text": [
      "1.4142135623730951\n"
     ]
    }
   ],
   "source": [
    "from math import * #导入math模块中所有函数\n",
    "a=sqrt(2)\n",
    "print (a)"
   ]
  },
  {
   "cell_type": "markdown",
   "metadata": {
    "Collapsed": "false"
   },
   "source": [
    "布尔类型：真(True)，假(False)"
   ]
  },
  {
   "cell_type": "code",
   "execution_count": 10,
   "metadata": {
    "Collapsed": "false"
   },
   "outputs": [
    {
     "name": "stdout",
     "output_type": "stream",
     "text": [
      "1\n",
      "0\n"
     ]
    }
   ],
   "source": [
    "a=True\n",
    "b=False\n",
    "print(int(a))\n",
    "print(int(b))"
   ]
  },
  {
   "cell_type": "markdown",
   "metadata": {
    "Collapsed": "false",
    "toc-hr-collapsed": true
   },
   "source": [
    "### 数据结构"
   ]
  },
  {
   "cell_type": "markdown",
   "metadata": {
    "Collapsed": "false"
   },
   "source": [
    "#### 列表(list)"
   ]
  },
  {
   "cell_type": "code",
   "execution_count": null,
   "metadata": {
    "Collapsed": "false"
   },
   "outputs": [],
   "source": [
    "a=[] #空列表\n",
    "print (a)\n",
    "b=[1,8,3,6]\n",
    "print (b[0])\n",
    "b.append(7) #从列表尾部不断添加新对象\n",
    "print (b[-1])\n",
    "b.reverse() #反转列表中元素\n",
    "print (b)\n",
    "b.sort() #列表排序\n",
    "print (b)\n",
    "f=len(b) #列表的长度\n",
    "print (f)"
   ]
  },
  {
   "cell_type": "markdown",
   "metadata": {
    "Collapsed": "false"
   },
   "source": [
    "可以通过help函数与dir函数查看模块内所有的特性"
   ]
  },
  {
   "cell_type": "code",
   "execution_count": null,
   "metadata": {
    "Collapsed": "false",
    "jupyter": {
     "source_hidden": true
    }
   },
   "outputs": [],
   "source": [
    "print (dir(list)) #特殊方法与公共方法列表"
   ]
  },
  {
   "cell_type": "code",
   "execution_count": null,
   "metadata": {
    "Collapsed": "false"
   },
   "outputs": [],
   "source": [
    "print (help(list)) #返回各个方法的具体定义"
   ]
  },
  {
   "cell_type": "markdown",
   "metadata": {
    "Collapsed": "false"
   },
   "source": [
    "#### 元组(tuple)"
   ]
  },
  {
   "cell_type": "markdown",
   "metadata": {
    "Collapsed": "false"
   },
   "source": [
    "元组与列表类似，区别在于一旦创建不能对其进行修改   \n",
    "元组可应用于不可变量的存放，既快又安全，需要修改时可以先转化为列表"
   ]
  },
  {
   "cell_type": "code",
   "execution_count": null,
   "metadata": {
    "Collapsed": "false"
   },
   "outputs": [],
   "source": [
    "a=(2,3,2,5,1)\n",
    "b=list(a)\n",
    "b.append(8)\n",
    "print (b)"
   ]
  },
  {
   "cell_type": "markdown",
   "metadata": {
    "Collapsed": "false"
   },
   "source": [
    "#### 字典(dict)"
   ]
  },
  {
   "cell_type": "markdown",
   "metadata": {
    "Collapsed": "false"
   },
   "source": [
    "字典(dict)是键与值一一映射的一种数据结构 {key:value}"
   ]
  },
  {
   "cell_type": "code",
   "execution_count": null,
   "metadata": {
    "Collapsed": "false"
   },
   "outputs": [],
   "source": [
    "a={\"one\":21,\"two\":43,\"three\":54} #三个元素的字典\n",
    "print (a)\n",
    "print (list(a.keys())) #返回字典a的所有键\n",
    "print (list(a.values())) #f返回字典a的所有值\n",
    "print (a[\"one\"]) #返回特定键对应的值"
   ]
  },
  {
   "cell_type": "markdown",
   "metadata": {
    "Collapsed": "false"
   },
   "source": [
    "列表解析：目的是简化代码"
   ]
  },
  {
   "cell_type": "code",
   "execution_count": 16,
   "metadata": {
    "Collapsed": "false"
   },
   "outputs": [
    {
     "name": "stdout",
     "output_type": "stream",
     "text": [
      "[2, 4, 6, 10]\n",
      "{'1': 2, '2': 4, '3': 6, '5': 10}\n",
      "<generator object <genexpr> at 0x000001E9917B9E08>\n",
      "[2, 4, 6, 10]\n"
     ]
    }
   ],
   "source": [
    "a=[1,2,3,5]\n",
    "b=[each*2 for each in a] #列表解析\n",
    "print (b)\n",
    "c={str(key1):value1 for key1,value1 in zip(a,b)} #列表解析\n",
    "print (c)\n",
    "d=(each1*2 for each1 in a)\n",
    "print (d) #返回一个生成器\n",
    "print (list(d))"
   ]
  },
  {
   "cell_type": "markdown",
   "metadata": {
    "Collapsed": "false"
   },
   "source": [
    "### 运算符"
   ]
  },
  {
   "cell_type": "raw",
   "metadata": {
    "Collapsed": "false"
   },
   "source": [
    "算术运算符: 加(+)，减(-),乘(*),除(/),乘方(**),求余(%)\n",
    "比较运算符：等于(==),不等于(!=),大于(>),小于(<),大于等于(>=)等\n",
    "赋值运算符：=，+=,*=等\n",
    "逻辑运算符：与(and), 或(or),非(not)\n",
    "成员运算符：in, not in"
   ]
  },
  {
   "cell_type": "markdown",
   "metadata": {
    "Collapsed": "false"
   },
   "source": [
    "### 条件语句"
   ]
  },
  {
   "cell_type": "code",
   "execution_count": 17,
   "metadata": {
    "Collapsed": "false"
   },
   "outputs": [
    {
     "name": "stdout",
     "output_type": "stream",
     "text": [
      "代码块2\n"
     ]
    }
   ],
   "source": [
    "if (1>2) and (3>2) :\n",
    "    print (\"代码块1\")\n",
    "else:\n",
    "    print (\"代码块2\")\n",
    "   "
   ]
  },
  {
   "cell_type": "code",
   "execution_count": 18,
   "metadata": {
    "Collapsed": "false"
   },
   "outputs": [
    {
     "name": "stdout",
     "output_type": "stream",
     "text": [
      "良好\n"
     ]
    }
   ],
   "source": [
    "score=70\n",
    "if 0<=score<60:\n",
    "    print (\"不及格\")\n",
    "elif 60<=score<80:\n",
    "    print (\"良好\")\n",
    "elif 80<=score<=100:\n",
    "    print (\"优秀\")\n",
    "else:\n",
    "    print (\"输入错误，请输入0到100之间的数字！\")"
   ]
  },
  {
   "cell_type": "markdown",
   "metadata": {
    "Collapsed": "false"
   },
   "source": [
    "### 循环语句"
   ]
  },
  {
   "cell_type": "code",
   "execution_count": null,
   "metadata": {
    "Collapsed": "false"
   },
   "outputs": [],
   "source": [
    "for i1 in range(1,6,1):\n",
    "    print (i1)"
   ]
  },
  {
   "cell_type": "code",
   "execution_count": 33,
   "metadata": {
    "Collapsed": "false"
   },
   "outputs": [
    {
     "name": "stdout",
     "output_type": "stream",
     "text": [
      "It's true!\n",
      "It's done!\n"
     ]
    }
   ],
   "source": [
    "flag=True\n",
    "while flag: #第二种循环结构\n",
    "    print (\"It's true!\")\n",
    "    flag=False\n",
    "print (\"It's done!\")"
   ]
  },
  {
   "cell_type": "code",
   "execution_count": 34,
   "metadata": {
    "Collapsed": "false"
   },
   "outputs": [
    {
     "name": "stdout",
     "output_type": "stream",
     "text": [
      "1\n",
      "3\n",
      "4\n",
      "5\n",
      "86\n"
     ]
    }
   ],
   "source": [
    "a=[1,3,4,5,86,34]\n",
    "for each in a:\n",
    "    if each==max(a):\n",
    "        print (each)\n",
    "        break #跳出最近一层的循环\n",
    "    else:\n",
    "        print (each)\n",
    "        continue #终止本轮循环，并进入下轮循环\n",
    "        print (\"我不是最大值！\")"
   ]
  },
  {
   "cell_type": "markdown",
   "metadata": {
    "Collapsed": "false"
   },
   "source": [
    "### 函数（面向过程编程）"
   ]
  },
  {
   "cell_type": "code",
   "execution_count": null,
   "metadata": {
    "Collapsed": "false"
   },
   "outputs": [],
   "source": [
    "def listSquare(inputList): #形参\n",
    "    \"\"\" \n",
    "    描述：对列表中数字平方并返回列表\n",
    "    输入：列表\n",
    "    输出：平方后的列表\n",
    "    例子：listSquare([1,2,3])\n",
    "    \"\"\"\n",
    "    b=[each**2 for each in inputList]\n",
    "    return b #返回值，可返回多个类型数据\n",
    "\n",
    "print (help(listSquare)) #查看帮助文档\n",
    "print (listSquare([1,2,3]))\n",
    "print (listSquare([\"a\",2,3])) #引发程序异常"
   ]
  },
  {
   "cell_type": "markdown",
   "metadata": {
    "Collapsed": "false"
   },
   "source": [
    "### 异常处理"
   ]
  },
  {
   "cell_type": "code",
   "execution_count": null,
   "metadata": {
    "Collapsed": "false"
   },
   "outputs": [],
   "source": [
    "def listSquare(inputList): #形参\n",
    "    \"\"\" \n",
    "    描述：对列表中数字平方并返回列表\n",
    "    输入：列表\n",
    "    输出：平方后的列表\n",
    "    例子：listSquare([1,2,3])\n",
    "    \"\"\"\n",
    "    try:\n",
    "        b=[each**2 for each in inputList] #可能出现异常的代码块\n",
    "    except TypeError: 处理，可以指出异常的类型，如TypeError\n",
    "        print (\"请输入数字型列表！\")\n",
    "        return #无正确返回，则返回None\n",
    "    else: #没有异常，则执行如下代码\n",
    "        return b #返回值，可返回多个类型数据\n",
    "\n",
    "print (listSquare([\"a\",1,2]))\n",
    "print (listSquare([1,2,3]))"
   ]
  },
  {
   "cell_type": "markdown",
   "metadata": {
    "Collapsed": "false"
   },
   "source": [
    "### 类（面向对象编程的核心）"
   ]
  },
  {
   "cell_type": "markdown",
   "metadata": {
    "Collapsed": "false"
   },
   "source": [
    "**类**=属性(数据)+方法(函数)   \n",
    "**OOP特征**：封装(只提供借口），继承(避免重复造轮子），多态（方法名相　　　同，具体实现不同）等   \n",
    "**以做菜为例:**   \n",
    "**属性:**各种原材料与工具   \n",
    "**方法:**切菜，炒菜等具体每一项工作   \n",
    "**封装:**炒菜机（输入原材料，调用每一个方法，出菜，不需要知道细节   \n",
    "**继承:**多功能炒菜机（炒青菜，土豆炖牛肉等菜）   \n",
    "**多态:**子类炒青菜与子类土豆炖牛肉都有切菜这个共同方法，但具体操作不同   "
   ]
  },
  {
   "cell_type": "code",
   "execution_count": 39,
   "metadata": {
    "Collapsed": "false"
   },
   "outputs": [
    {
     "name": "stdout",
     "output_type": "stream",
     "text": [
      "PGA= 1.219 g\n"
     ]
    }
   ],
   "source": [
    "import numpy as np\n",
    "import math\n",
    "class IMs():#没有继承自任何类，默认继承自基类object\n",
    "    \"\"\"\n",
    "    地震动强度指标计算类\n",
    "    初始化参数：单列加速度时程acc(g),采样间隔t(s)\n",
    "    方法：\n",
    "    PGA()--返回峰值加速度值(g)\n",
    "    PGV()--返回峰值速度值(cm/s)\n",
    "    \"\"\"\n",
    "    def __init__(self,acc,t): #类的初始化方法，内置特殊方法\n",
    "        #acc单列加速度时程(g),t时间间隔(s)\n",
    "        self.acc=acc #self是类的实例化铭牌，在类内起到通信的作用\n",
    "        self.t=t\n",
    "        self.num=len(self.acc)\n",
    "\n",
    "    def PGA(self):\n",
    "        #返回acc的最大峰值加速度(PGA)(g)\n",
    "        pga=b=np.fabs(self.acc).max()\n",
    "        return pga\n",
    "    \n",
    "    def __AcctoVelocity (self): #类的私有化方法（前置两下划线）\n",
    "        #将加速度(g)转换为速度(cm/s)\n",
    "        vel=[0]\n",
    "        acc=self.acc\n",
    "        for i in range(self.num-1):\n",
    "            velocity=(acc[i]+acc[i+1])*self.t/2*981+vel[-1]\n",
    "            vel.append(velocity)\n",
    "        return vel\n",
    "\n",
    "    def PGV (self):\n",
    "        #返回Velocity的最大峰值速度(PGV)(cm/s)\n",
    "        veloc=self.__AcctoVelocity()\n",
    "        pgv=b=np.fabs(veloc).max()\n",
    "        return pgv\n",
    "    \n",
    "if __name__=='__main__':#测试用\n",
    "    acc=np.loadtxt(\"acceleration.txt\")#txt数据的加载\n",
    "    imInstance=IMs(acc,0.01)#强度指标类的实例化\n",
    "    pga=imInstance.PGA()#调用类中的方法计算PGA\n",
    "    pgv=imInstance.PGV()\n",
    "    print (\"PGA=\",round(pga,3),\"g\") #保留3位小数"
   ]
  },
  {
   "cell_type": "code",
   "execution_count": 40,
   "metadata": {
    "Collapsed": "false"
   },
   "outputs": [
    {
     "name": "stdout",
     "output_type": "stream",
     "text": [
      "PGV= 114.471 cm/s\n"
     ]
    }
   ],
   "source": [
    "    print (\"PGV=\",round(pgv,3),\"cm/s\")"
   ]
  },
  {
   "cell_type": "markdown",
   "metadata": {
    "Collapsed": "false"
   },
   "source": [
    "### python学习资料"
   ]
  },
  {
   "cell_type": "markdown",
   "metadata": {
    "Collapsed": "false"
   },
   "source": [
    "**常用网站：**"
   ]
  },
  {
   "cell_type": "markdown",
   "metadata": {
    "Collapsed": "false"
   },
   "source": [
    "[matplotlib](https://matplotlib.org/)(第三方绘图库）   \n",
    "[Numpy](https://numpy.org/)(科学计算基本库)    \n",
    "[Scipy](https://www.scipy.org/)(集成了数学，科学及工程常用库)    \n",
    "[SymPy](https://www.sympy.org/en/index.html)(符号运算库)    \n",
    "[Python教程](https://docs.python.org/zh-cn/3/tutorial/index.html)(官方教程中文版)    \n",
    "[Python标准库](https://docs.python.org/zh-cn/3/library/index.html)(Python内置标准库)    \n",
    "[wxPython](https://www.wxpython.org/)(图形用户界面库)     \n",
    "[pypi](https://pypi.org/search/?q=&o=&c=Operating+System+%3A%3A+Microsoft+%3A%3A+Windows)(大量第三方包库)     \n",
    "[Scikit-learn](https://scikit-learn.org/stable/)(python机器学习库)   \n",
    "[PyOpenGL](http://pyopengl.sourceforge.net/)(基于Python的图形开发库)    \n",
    "[stackoverflow](https://stackoverflow.com/)(程序员交流答疑网站)    \n",
    "[台大李宏毅机器学习](https://study.163.com/course/introduction/1208946807.htm)(中文机器学习经典课程)    \n",
    "[斯坦福吴恩达机器学习](https://study.163.com/course/courseMain.htm?courseId=1004570029)(英文机器学习经典课程)    \n",
    "[斯坦福吴恩达深度学习](https://mooc.study.163.com/smartSpec/detail/1001319001.htm)(英文深度学习经典课程)    \n",
    "[github上python资源](https://github.com/Junjun1guo?tab=repositories) (收集了一些不错的python教程)    \n",
    "[github](https://github.com/)(代码管理及发布网站，可以免费搭建个人博客)      \n",
    "[MCMC](https://twiecki.io/blog/2015/11/10/mcmc-sampling/)(基于马尔科夫蒙特卡洛的贝叶斯模型)    "
   ]
  },
  {
   "cell_type": "markdown",
   "metadata": {
    "Collapsed": "false"
   },
   "source": [
    "**推荐书籍:**"
   ]
  },
  {
   "cell_type": "markdown",
   "metadata": {
    "Collapsed": "false"
   },
   "source": [
    "　　<img src=\"images/python编程从入门到实践.png\" width=\"25%\">  　　 <img src=\"images/python3面向对象编程.png\" width=\"25%\"> 　　  <img src=\"images/python神经网络编程.png\" width=\"25%\">"
   ]
  },
  {
   "cell_type": "markdown",
   "metadata": {
    "Collapsed": "false"
   },
   "source": [
    "　　<img src=\"images/编写高质量代码.png\" width=\"25%\">　　　<img src=\"images/流畅的python.png\" width=\"25%\">　　　<img src=\"images/EffectivePython.png\" width=\"25%\">"
   ]
  },
  {
   "cell_type": "markdown",
   "metadata": {
    "Collapsed": "false"
   },
   "source": [
    "　　<img src=\"images/机器学习实战.png\" width=\"25%\">　　　<img src=\"images/深度学习.png\" width=\"25%\">　　<img src=\"images/动手学深度学习.png\" width=\"25%\">"
   ]
  },
  {
   "cell_type": "markdown",
   "metadata": {
    "Collapsed": "false",
    "toc-hr-collapsed": true
   },
   "source": [
    "# python语言在桥梁工程中的应用"
   ]
  },
  {
   "cell_type": "markdown",
   "metadata": {
    "Collapsed": "false"
   },
   "source": [
    "## 基于python语言的PEER网站地震波处理"
   ]
  },
  {
   "cell_type": "markdown",
   "metadata": {
    "Collapsed": "false"
   },
   "source": [
    "　　主要涉及到python文件的操作,列表,字典及列表解析等   \n",
    "　　完整的项目见[github-PEERMotionFormatProcess-with-Python](https://github.com/Junjun1guo/PEERMotionFormatProcess-with-Python)"
   ]
  },
  {
   "cell_type": "code",
   "execution_count": null,
   "metadata": {
    "Collapsed": "false"
   },
   "outputs": [],
   "source": [
    "##########################################################################\n",
    "import os\n",
    "import numpy as np\n",
    "import shutil\n",
    "##########################################################################\n",
    "def peerMotionProcess (fileName):\n",
    "\t\"\"\"\n",
    "\tProcessing each file and return the processed resutls(percolumn data list, \n",
    "\ttimestep and pointers number)\n",
    "\t\"\"\"\n",
    "\taccList=[]\n",
    "\tfopen=open(fileName) #打开文件\n",
    "\tsaveList1=[]\n",
    "\tsaveList2=[]\n",
    "\tlines=fopen.readlines() #读取所有的行并返回列表\n",
    "\tfor line_counter,line in enumerate(lines): #遍历行号及每行内容\n",
    "\t\tcurLine=line.strip().split(\" \") #去除首尾空格，并按行内空格划分\n",
    "\t\tremoveSpace=[x for x in curLine if x!=\"\"] #去除行内空格\n",
    "\t\tif line_counter<=3: #从前四行提取地震波点数与采样间隔\n",
    "\t\t\t[saveList1.append(x) for x in removeSpace] #前四行内容列表\n",
    "\t\telse:\n",
    "\t\t\t[saveList2.append(x) for x in removeSpace] #地震波时程点\n",
    "\tfopen.close() #关闭文件\n",
    "\tindexNumber=saveList1.index(\"NPTS=\") #索引位置\n",
    "\tindexDt=saveList1.index(\"DT=\")\n",
    "\tpointNumber=saveList1[indexNumber+1].split(\",\")[0] #提取数字\n",
    "\tdeltaT=saveList1[indexDt+1].split(\",\")[0]\n",
    "\tsaveList=[ float(x) for x in saveList2]\n",
    "\treturn pointNumber,deltaT,saveList #返回地震波点数，采样间隔及时程列表\n",
    "##########################################################################\n",
    "if __name__=='__main__':\n",
    "\tdirection=[\"E\",\"N\",\"V\"]\n",
    "\tpostFixList=[\".AT2\",\".VT2\",\".DT2\"]\n",
    "\ttimeFileDict={\".AT2\":\"Acceleration\",\".VT2\":\"Velocity\",\".DT2\":\"Displacement\"}\n",
    "\t#Generating all saving file paths\n",
    "\tmidirList=[(topFile,secFile) for topFile in timeFileDict.values() \\\n",
    "               for secFile in direction]\n",
    "\t#Clearing existing files\n",
    "\t[shutil.rmtree(x) for x in timeFileDict.values()]\n",
    "\tfor toplevel,seclevel in midirList:\n",
    "\t\t\tos.makedirs(toplevel+\"/\"+seclevel)#generate save files\n",
    "\tfileListE=[]\n",
    "\tfileListN=[]\n",
    "\tfileListV=[]\n",
    "\t# text file read and process\n",
    "\tfileNameOpen=open(\"FileName.txt\")\n",
    "\tfor line in fileNameOpen.readlines():\n",
    "\t\tcurLine=line.strip().split(\"\\t\") #分割同一行各个分量\n",
    "\t\tfileListE.append(curLine[0].split(\".AT2\")[0])#水平E向分量名称\n",
    "\t\tfileListN.append(curLine[1].split(\".AT2\")[0])#水平N向分量名称\n",
    "\t\tfileListV.append(curLine[2].split(\".AT2\")[0])#竖向V分量名称\n",
    "\tfileNameOpen.close()\t\n",
    "\tfinalLengthList=[]\n",
    "\tfinaltimeList=[]\n",
    "\tfinalFileNameList=[]\n",
    "\tfor i1 in range(len(fileListE)): #遍历每条地震波\n",
    "\t\tfileNameENV=[{fileListE[i1]:direction[0]},{fileListN[i1]:direction[1]},\\\n",
    "                     {fileListV[i1]:direction[2]}]#将各个分量地震文件名与方向标签对应\n",
    "\t\tcaseList=[(xx,yy) for xx in fileNameENV for yy in postFixList]#双循环实现每个\n",
    "        #工况，总共9个，加速度，速度及位移文件夹下建E,N,V三个分量文件夹\n",
    "\t\tlengthList=[] #每条波点数列表\n",
    "\t\ttimeList=[]#每条波采样间隔\n",
    "\t\tfor eachCase in caseList:\n",
    "\t\t\tfileDirection=eachCase[0].values()[0]# eachCase[0]是字典，\n",
    "            #选取的是方向E,N或者V\n",
    "\t\t\tfilePrefix=eachCase[0].keys()[0].strip()#移除分量名首尾空格\n",
    "\t\t\tloadFilePath=os.path.join(\"downLoadPeerMotion/\",filePrefix+eachCase[1])\n",
    "            #地震动分量的相对路径\n",
    "\t\t\tif filePrefix==\"NoFile\":#判断地震动分量文件是否存在\n",
    "\t\t\t\taccPointNum=1e8 #对于不存在的文件设其点数为一大数\n",
    "\t\t\t\taccDeltaT=1e8\n",
    "\t\t\t\taccTimeHistory=[0.0]\n",
    "\t\t\telse:\n",
    "\t\t\t\taccResult=peerMotionProcess (loadFilePath) #调用地震波处理函数\n",
    "\t\t\t\taccPointNum=int(accResult[0])\n",
    "\t\t\t\taccDeltaT=float(accResult[1])\n",
    "\t\t\t\taccTimeHistory=accResult[2]\n",
    "\t\t\tlengthList.append(accPointNum)\n",
    "\t\t\ttimeList.append(accDeltaT)\n",
    "\t\t\tcwd=os.getcwd() #返回当前工作目录\n",
    "\t\t\tsavePathName=os.path.join(cwd,timeFileDict[eachCase[1]]+\"/\"+\\\n",
    "                                      fileDirection+\"/\",filePrefix+\".txt\")\n",
    "             #文件保存路径\n",
    "\t\t\tnp.savetxt(savePathName,accTimeHistory,fmt=\"%f\") #保存处理后的地震波\n",
    "\t\tfinalLengthList.append(min(lengthList)) #选取3个分量中最小值\n",
    "\t\tfinaltimeList.append(min(timeList))\n",
    "\tnp.savetxt(\"MotonLength.txt\",finalLengthList,fmt=\"%d\")\n",
    "\tnp.savetxt(\"deltaT.txt\",finaltimeList,fmt=\"%f\")"
   ]
  },
  {
   "cell_type": "markdown",
   "metadata": {
    "Collapsed": "false"
   },
   "source": [
    "## 基于模拟退火与三次B样条插值曲线的斜拉桥索力优化"
   ]
  },
  {
   "cell_type": "markdown",
   "metadata": {
    "Collapsed": "false"
   },
   "source": [
    "　　主要涉及python与Opensees的交互，异常的处理等    \n",
    "　　完整的项目见[github-Cable-force-optimization-of-a-curved-cable-stayed-bridge\n",
    "](https://github.com/Junjun1guo/Cable-force-optimization-of-a-curved-cable-stayed-bridge)"
   ]
  },
  {
   "cell_type": "markdown",
   "metadata": {
    "Collapsed": "false"
   },
   "source": [
    "## 基于wxPython的地震波处理GUI开发"
   ]
  },
  {
   "cell_type": "markdown",
   "metadata": {
    "Collapsed": "false"
   },
   "source": [
    "　　主要涉及python桌面程序的开发等    \n",
    "　　完整的项目见[github-seismicWaveAnalysis](https://github.com/Junjun1guo/seismicWaveAnalysis)"
   ]
  },
  {
   "cell_type": "markdown",
   "metadata": {
    "Collapsed": "false"
   },
   "source": [
    "## 基于wxPython与PyOpenGL的有限元软件开发"
   ]
  },
  {
   "cell_type": "markdown",
   "metadata": {
    "Collapsed": "false"
   },
   "source": [
    "　　主要涉及wxPython,PyOpenGL,类及设计模式等     \n",
    "　　完整的项目见[git-2DTrussStructureAnalysisWithPython](https://github.com/Junjun1guo/2DTrussStructureAnalysisWithPython)"
   ]
  },
  {
   "cell_type": "markdown",
   "metadata": {
    "Collapsed": "false",
    "toc-hr-collapsed": false
   },
   "source": [
    "# 附录"
   ]
  },
  {
   "cell_type": "markdown",
   "metadata": {
    "Collapsed": "false"
   },
   "source": [
    "## Jupyterlab 安装"
   ]
  },
  {
   "cell_type": "markdown",
   "metadata": {
    "Collapsed": "false"
   },
   "source": [
    "1. 进入python安装目录Scripts文件夹，shift+ctrl+鼠标右键打开powershell窗口，或者在当前文件栏输入cmd进入命令行窗口"
   ]
  },
  {
   "cell_type": "markdown",
   "metadata": {
    "Collapsed": "false"
   },
   "source": [
    "　　<img src=\"images/附录1.jpg\" width=\"30%\"> 　　<img src=\"images/附录2.jpg\" width=\"50%\"> "
   ]
  },
  {
   "cell_type": "markdown",
   "metadata": {
    "Collapsed": "false"
   },
   "source": [
    "2. 在命令行输入：pip3 install jupyterlab开始自动安装"
   ]
  },
  {
   "cell_type": "markdown",
   "metadata": {
    "Collapsed": "false"
   },
   "source": []
  },
  {
   "cell_type": "markdown",
   "metadata": {
    "Collapsed": "false"
   },
   "source": [
    "<img src=\"images/附录3.jpg\" width=\"70%\">"
   ]
  },
  {
   "cell_type": "markdown",
   "metadata": {
    "Collapsed": "false"
   },
   "source": [
    "3. 在jupyter文件所在目录栏输入cmd进入命令行，输入jupyter lab打开，进入jupyterlab界面。关于jupyterlab的更多知识可参考[官方帮助文档](https://jupyterlab.readthedocs.io/en/latest/)。"
   ]
  },
  {
   "cell_type": "markdown",
   "metadata": {
    "Collapsed": "false"
   },
   "source": [
    "<img src=\"images/附录4.jpg\" width=\"40%\">　　<img src=\"images/附录5.jpg\" width=\"40%\">"
   ]
  },
  {
   "cell_type": "markdown",
   "metadata": {
    "Collapsed": "false"
   },
   "source": [
    "## python包的开发及发布"
   ]
  },
  {
   "cell_type": "markdown",
   "metadata": {
    "Collapsed": "false"
   },
   "source": [
    "1. 登录到[pypi](https://pypi.org/)注册账户，记住自己的用户名与密码，上传包的时候需要用到。   \n",
    "2. 准备待发布的包\n",
    "* 包的格式   \n",
    "  包括setup.py文件及包文件(包含__init__.py的文件,可以什么也不写)"
   ]
  },
  {
   "cell_type": "markdown",
   "metadata": {
    "Collapsed": "false"
   },
   "source": [
    "<img src=\"images/testPackage1.png\" width=\"50%\"><img src=\"images/testPackage2.png\" width=\"50%\">"
   ]
  },
  {
   "cell_type": "markdown",
   "metadata": {
    "Collapsed": "false"
   },
   "source": [
    "setup.py文件"
   ]
  },
  {
   "cell_type": "code",
   "execution_count": null,
   "metadata": {
    "Collapsed": "false"
   },
   "outputs": [],
   "source": [
    "#setup.py\n",
    "from distutils.core import setup\n",
    "from setuptools import setup, find_packages #导入发布模块\n",
    "\n",
    "setup(\n",
    "    name = 'testPackage', #包的名称\n",
    "    version = '0.1.2', #版本号\n",
    "    keywords = ('seismic', 'signal'), #包的关键字\n",
    "    description = 'seismic wave analysis', #对包的描述\n",
    "    license = 'MIT License', #许可证\n",
    "\n",
    "    author = 'Junjun Guo',#作者信息\n",
    "    author_email = 'guojj_ce@163.com', #邮箱\n",
    "\turl='https://github.com/Junjun1guo/seismicWaveAnalysis',#包的链接\n",
    "    packages = find_packages(),#需要具有__init__.py文件的文件夹\n",
    "\tinstall_requires=['wxPython','numpy'],#列出包依赖的包\n",
    "    platforms = 'any', #跨平台\n",
    ")"
   ]
  },
  {
   "cell_type": "markdown",
   "metadata": {
    "Collapsed": "false"
   },
   "source": [
    "3. 在包的当前路径打开命令行，安装twine模块"
   ]
  },
  {
   "cell_type": "markdown",
   "metadata": {
    "Collapsed": "false"
   },
   "source": [
    "4. 生成上传包：python set.py sdist bdist_wheel"
   ]
  },
  {
   "cell_type": "markdown",
   "metadata": {
    "Collapsed": "false"
   },
   "source": [
    "5. 上传包到pypi: twine upload dist/*"
   ]
  },
  {
   "cell_type": "markdown",
   "metadata": {
    "Collapsed": "false"
   },
   "source": [
    "6. 在python scripts文件夹打开命令行安装上传的包，并会自动搜索安装依赖的其他包：pip install 包名 "
   ]
  }
 ],
 "metadata": {
  "celltoolbar": "幻灯片",
  "kernelspec": {
   "display_name": "Python 3",
   "language": "python",
   "name": "python3"
  },
  "language_info": {
   "codemirror_mode": {
    "name": "ipython",
    "version": 3
   },
   "file_extension": ".py",
   "mimetype": "text/x-python",
   "name": "python",
   "nbconvert_exporter": "python",
   "pygments_lexer": "ipython3",
   "version": "3.6.8"
  },
  "toc-autonumbering": true,
  "toc-showcode": false,
  "toc-showmarkdowntxt": false,
  "toc-showtags": false,
  "widgets": {
   "application/vnd.jupyter.widget-state+json": {
    "state": {},
    "version_major": 2,
    "version_minor": 0
   }
  }
 },
 "nbformat": 4,
 "nbformat_minor": 4
}
